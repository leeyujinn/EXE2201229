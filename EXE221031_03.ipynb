{
  "nbformat": 4,
  "nbformat_minor": 0,
  "metadata": {
    "colab": {
      "provenance": [],
      "authorship_tag": "ABX9TyOw0M/t3LazVdts/2XfQXFq",
      "include_colab_link": true
    },
    "kernelspec": {
      "name": "python3",
      "display_name": "Python 3"
    },
    "language_info": {
      "name": "python"
    }
  },
  "cells": [
    {
      "cell_type": "markdown",
      "metadata": {
        "id": "view-in-github",
        "colab_type": "text"
      },
      "source": [
        "<a href=\"https://colab.research.google.com/github/leeyujinn/EXE2201229/blob/main/EXE221031_03.ipynb\" target=\"_parent\"><img src=\"https://colab.research.google.com/assets/colab-badge.svg\" alt=\"Open In Colab\"/></a>"
      ]
    },
    {
      "cell_type": "markdown",
      "source": [
        "1. 사용자로부터 두 개의 정수를 받아서 정수의 합, 정수의 차, 정수의 곱, 정수의 평균, 큰수, 작은 수를 계산하여 화면에 출력하는 프로그램을 작성하라. 파이썬이 제공하는 내장 함수 max(x,y), min(x,y)을 사용해보자."
      ],
      "metadata": {
        "id": "GI3OkVqBKACF"
      }
    },
    {
      "cell_type": "code",
      "execution_count": 8,
      "metadata": {
        "colab": {
          "base_uri": "https://localhost:8080/"
        },
        "id": "EXD5XBgo0aWb",
        "outputId": "655e7c7a-833d-479e-bea5-c6e42888d727"
      },
      "outputs": [
        {
          "output_type": "stream",
          "name": "stdout",
          "text": [
            "x의 값을 입력하시오.: 10\n",
            "y의 값을 입력하시오.: 20\n",
            "x와 y의 합: 30\n",
            "x와 y의 차: -10\n",
            "x와 y의 곱: 200\n",
            "x와 y의 평균: 15.0\n",
            "x와 y의 큰수: 20\n",
            "x와 y의 작은수: 10\n"
          ]
        }
      ],
      "source": [
        "x = int(input(\"x의 값을 입력하시오.: \"))\n",
        "y = int(input(\"y의 값을 입력하시오.: \"))\n",
        "\n",
        "print(\"x와 y의 합:\",x+y)\n",
        "print(\"x와 y의 차:\",x-y)\n",
        "print(\"x와 y의 곱:\",x*y)\n",
        "print(\"x와 y의 평균:\",(x+y)/2)\n",
        "print(\"x와 y의 큰수:\",max(x,y))\n",
        "print(\"x와 y의 작은수:\",min(x,y))"
      ]
    },
    {
      "cell_type": "markdown",
      "source": [
        "2. 원기둥의 부피를 계산하는 프로그램을 작성해보자. 원기둥의 부피는 다음과 같이 계산한다."
      ],
      "metadata": {
        "id": "jwOQbnYGKTzm"
      }
    },
    {
      "cell_type": "code",
      "source": [
        "r = float(input(\"r값을 입력하시오: \")) #변수 r의 값을 사용자로부터 받는다. float형으로\n",
        "h = float(input(\"h값을 입력하시오: \")) #변수 h의 값을 사용자로부터 받는다. float형으로\n",
        "vol = 3.141592* r**2 *h\n",
        "print(\"원기둥의 부피는:\", vol, \"입니다.\")"
      ],
      "metadata": {
        "colab": {
          "base_uri": "https://localhost:8080/"
        },
        "id": "QNvWLRbs2M7A",
        "outputId": "d97941f3-5974-47d8-9ff1-500dabca90b6"
      },
      "execution_count": 2,
      "outputs": [
        {
          "output_type": "stream",
          "name": "stdout",
          "text": [
            "r값을 입력하시오: 10\n",
            "h값을 입력하시오: 100\n",
            "원기둥의 부피는: 31415.92 입니다.\n"
          ]
        }
      ]
    },
    {
      "cell_type": "markdown",
      "source": [
        "3. 사용자로부터 정수를 받아서 정수의 자리수의 합을 계산하는 프로그램을 작성하여 보자. 예를 들어서 사용자가 1234를 입력하였다면 1+2+3+4를 계산하면 된다. 나머지 연산자와 정수 나눗셈 연산자 //를 적극적으로 사용해보자."
      ],
      "metadata": {
        "id": "zbNQouiRKatk"
      }
    },
    {
      "cell_type": "code",
      "source": [
        "number = int(input(\"정수를 입력하시오.: \"))\n",
        "sum = 0     #변수 sum을 0으로 초기화 한다.\n",
        "sum = sum + number % 10\n",
        "number = number//10\n",
        "sum = sum + number % 10\n",
        "number = number//10\n",
        "sum = sum + number % 10\n",
        "number = number//10\n",
        "sum = sum + number % 10\n",
        "number = number//10\n",
        "print(\"자리수의 합: \", str(sum))"
      ],
      "metadata": {
        "colab": {
          "base_uri": "https://localhost:8080/"
        },
        "id": "7RibghPG5k7X",
        "outputId": "1687b522-80c7-42cf-b464-658c274b8518"
      },
      "execution_count": 11,
      "outputs": [
        {
          "output_type": "stream",
          "name": "stdout",
          "text": [
            "정수를 입력하시오.: 1234\n",
            "자리수의 합:  10\n"
          ]
        }
      ]
    },
    {
      "cell_type": "markdown",
      "source": [
        "4. 사용자로부터 두 점의 좌표 (x1,y1)과 (x2,y2)를 입력받아서 두 점 사이의 거리를 계산하는 프로그램을 작성해보자. 스크립트 모드로 작성하라. 거리는 다음 식으로 계산한다."
      ],
      "metadata": {
        "id": "yN5WvrDeKqO9"
      }
    },
    {
      "cell_type": "code",
      "source": [
        "x1 = int(input(\"x1의 값: \"))\n",
        "y1 = int(input(\"y1의 값: \"))\n",
        "\n",
        "x2 = int(input(\"x2의 값: \"))\n",
        "y2 = int(input(\"y2의 값: \"))\n",
        "dist = ((x1-x2)**2+(y1-y2)**2)**0.5\n",
        "print(\"두점 사이의 거리=\", dist, \"입니다.\")"
      ],
      "metadata": {
        "colab": {
          "base_uri": "https://localhost:8080/"
        },
        "id": "UpFpFxGr70mP",
        "outputId": "b8269d4e-33fd-471e-ec71-47af6272b0fa"
      },
      "execution_count": 14,
      "outputs": [
        {
          "output_type": "stream",
          "name": "stdout",
          "text": [
            "x1의 값: 0\n",
            "y1의 값: 0\n",
            "x2의 값: 100\n",
            "y2의 값: 100\n",
            "두점 사이의 거리= 141.4213562373095 입니다.\n"
          ]
        }
      ]
    },
    {
      "cell_type": "markdown",
      "source": [
        "7. 파이썬에서 time()을 호출하면 1970년 1월 1일 이후 흘러온 전체 초가 반환된다. 이것을 적절하게 나누거나 나머지를 구해서 현재 시간의 시와 분을 계산할 수 있을까?"
      ],
      "metadata": {
        "id": "NW7v4CdBK9kF"
      }
    },
    {
      "cell_type": "code",
      "source": [
        "import time\n",
        "fsecond=time.time()\n",
        "total_sec = int(fsecond)\n",
        "total_min = total_sec // 60\n",
        "minute = total_min % 60\n",
        "total_hour = total_min // 60\n",
        "hour = total_hour % 24\n",
        "\n",
        "print(\"현재 시간(영국 그리니치 시각): \", str(hour) + \"시\" + str(minute) + \"분\")"
      ],
      "metadata": {
        "colab": {
          "base_uri": "https://localhost:8080/"
        },
        "id": "-R34xZBNCE1Y",
        "outputId": "73e04430-2ab4-4f89-8054-fe948d90a19c"
      },
      "execution_count": 15,
      "outputs": [
        {
          "output_type": "stream",
          "name": "stdout",
          "text": [
            "현재 시간(영국 그리니치 시각):  3시46분\n"
          ]
        }
      ]
    }
  ]
}